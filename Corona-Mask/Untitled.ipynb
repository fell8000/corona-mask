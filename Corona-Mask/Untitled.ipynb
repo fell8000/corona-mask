{
 "cells": [
  {
   "cell_type": "code",
   "execution_count": 5,
   "metadata": {},
   "outputs": [],
   "source": [
    "import requests \n",
    "import json \n",
    "import urllib.request\n",
    "import datetime\n",
    "import time\n",
    "from tqdm import tqdm \n",
    "import pandas as pd\n",
    "import folium \n",
    "import webbrowser\n",
    "from folium.plugins import MarkerCluster, MiniMap"
   ]
  },
  {
   "cell_type": "code",
   "execution_count": 39,
   "metadata": {},
   "outputs": [],
   "source": [
    "\n",
    "def getMaskStoreInfo():\n",
    "    url = \"https://8oi9s0nnth.apigw.ntruss.com/corona19-masks/v1/storesByGeo/json\" \n",
    "    req = requests.get(url) \n",
    "    counts = req.json()['count'] \n",
    "    addrs = [] \n",
    "    codes = [] \n",
    "    created_ats=[]\n",
    "    latitudes = [] \n",
    "    longitudes = [] \n",
    "    names = [] \n",
    "    remain_stats=[]\n",
    "    stock_ats=[]\n",
    "    types = [] \n",
    "    req = requests.get(url) \n",
    "    json_data = req.json() \n",
    "    store_infos = json_data['stores'] \n",
    "    \n",
    "    for i in range(len(store_infos)):  \n",
    "        addrs.append(store_infos[i]['addr']) \n",
    "        codes.append(store_infos[i]['code']) \n",
    "        created_ats.append(store_infos[i]['created_at']) \n",
    "        latitudes.append(store_infos[i]['lat']) \n",
    "        longitudes.append(store_infos[i]['lng']) \n",
    "        names.append(store_infos[i]['name']) \n",
    "        remain_stats.append(store_infos[i]['remain_stat']) \n",
    "        stock_ats.append(store_infos[i]['stock_at']) \n",
    "        types.append(store_infos[i]['type'])  #정보를 문자열에 append\n",
    "        \n",
    "    mask_store_info_df = pd.DataFrame({\"addr\":addrs, \"code\":codes, \"created_at\":created_ats,\"latitude\":latitudes, \"longitude\":longitudes, \"name\":names, \"remain_stat\":remain_stats,\"stock_at\":stock_ats,\"type\":types}) \n",
    "    return mask_store_info_df #데이터프레임형태로 반환\n",
    "\n",
    "        \n",
    "def main():     \n",
    "    my_info_df = getMaskStoreInfo()\n",
    "    my_info_df.to_csv(\"mask_store_info.csv\", index=False)\n",
    "    data_for_draw = my_info_df.loc[:, ['name', 'latitude', 'longitude', 'remain_stat','addr']] \n",
    "    data_for_draw_nan = data_for_draw.dropna() \n",
    "    \n",
    "    color_dic = {'plenty':'green', 'some':'orange', 'few':'red', 'empty':'gray', 'break':'black'}\n",
    "    remain_stat_kor = {'plenty':'100개 이상', 'some':'30개 이상', \"few\":'2개이상 30개 미만', \"empty\":\"재고 없음\", \"break\":\"문닫음\" }\n",
    "    \n",
    "    \n",
    "    map_hs = folium.Map((37.5028561, 127.0447712), zoom_start = 16) \n",
    "    mc = MarkerCluster() \n",
    "    names = list(data_for_draw_nan['name']) \n",
    "    latitudes = list(data_for_draw_nan['latitude']) \n",
    "    longitudes = list(data_for_draw_nan['longitude']) \n",
    "    remain_stats = list(data_for_draw_nan['remain_stat'])\n",
    "    addrs = list(data_for_draw_nan['addr'])\n",
    "    \n",
    "    for i in tqdm(range(len(names))): \n",
    "        mc.add_child(folium.Marker(location = [latitudes[i], longitudes[i]], icon=folium.Icon(color=color_dic[remain_stats[i]]), popup='<'+names[i] +'> '+'\\n'+addrs[i] + '\\n' + remain_stat_kor[remain_stats[i]])) \n",
    "        map_hs.add_child(mc)\n",
    "\n",
    "    map_hs.save('12.html')\n",
    "\n",
    "   "
   ]
  },
  {
   "cell_type": "code",
   "execution_count": 40,
   "metadata": {},
   "outputs": [
    {
     "name": "stderr",
     "output_type": "stream",
     "text": [
      "100%|████████████████████████████████████████████████████████████████████████████████| 80/80 [00:00<00:00, 8891.65it/s]\n"
     ]
    }
   ],
   "source": [
    "\n",
    "    \n",
    "    \n",
    "if __name__ == \"__main__\":   \n",
    "    main()"
   ]
  },
  {
   "cell_type": "code",
   "execution_count": null,
   "metadata": {},
   "outputs": [],
   "source": []
  }
 ],
 "metadata": {
  "kernelspec": {
   "display_name": "Python 3",
   "language": "python",
   "name": "python3"
  },
  "language_info": {
   "codemirror_mode": {
    "name": "ipython",
    "version": 3
   },
   "file_extension": ".py",
   "mimetype": "text/x-python",
   "name": "python",
   "nbconvert_exporter": "python",
   "pygments_lexer": "ipython3",
   "version": "3.8.2"
  }
 },
 "nbformat": 4,
 "nbformat_minor": 4
}
